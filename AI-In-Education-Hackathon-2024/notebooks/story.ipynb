{
 "cells": [
  {
   "cell_type": "markdown",
   "metadata": {},
   "source": [
    "# Bias Analysis towards Fair AI in Education"
   ]
  },
  {
   "cell_type": "markdown",
   "metadata": {},
   "source": [
    "Team: Multi-Agents (Artur Ganzha, Detijon Lushaj, Lasse Müller)"
   ]
  },
  {
   "cell_type": "markdown",
   "metadata": {},
   "source": [
    "In this prototype, we showcased the correlation between student performance based on their ethnicity/race background and their chances of respective milestones. Additionally we analyzed the influence of the parental educational background on the students performance. \n",
    "This was done by utilizing ML models that were able to detect the underlying pattern in the data. Multiple models were compared in their capability to predict students performances based on their ethnicity, gender and parental education.\n",
    "\n",
    "Problem Statement\n",
    "\n",
    "    Challenge: Identify potential inequalities in student performance based on race/ethnicity, parental education and gender.\n",
    "\n",
    "    Consequences: Addressing unfair opportunities is crucial for creating a more equitable learning environment.\n",
    "    \n",
    "    Target Group: Educators, researchers, and students interested in educational equity.\n",
    "\n"
   ]
  },
  {
   "cell_type": "markdown",
   "metadata": {},
   "source": [
    "### Goals\n",
    "Our goal was to showcase the inequality of chances for different groups by showing the performance of existing data entries on different classes and prediction of new introductions. The potential impact of that is to motivate educators to investigate their own situation.\n",
    "\n",
    "Emerging questions from the problem statement:\n",
    "\n",
    "- Are there disparities in performance between each inspected group?\n",
    "- Is there any reason of doubt that the resulting correlations could be assumed of unfair chances?\n",
    "- How can educators use these findings to create fairer educational opportunities and reduce biases?\n"
   ]
  },
  {
   "cell_type": "markdown",
   "metadata": {},
   "source": [
    "### Methodology\n",
    "\n",
    "The overall project was divided in four steps. The implementation details are linked below.\n",
    "1. Exploratory data analysis\n",
    "   - Understand the datastructure\n",
    "   - Generate plots to highlight correlations in the original data\n",
    "2. Dataset preparation\n",
    "   - Ensure no data imbalance hinders the results\n",
    "3. Model selection and implementation\n",
    "   - Random Forests\n",
    "   - LinearRegression\n",
    "   - Neural Network\n",
    "4. Data presentation\n",
    "   - Present data in a coherent and easy way, adjusted to the target group"
   ]
  },
  {
   "cell_type": "markdown",
   "metadata": {},
   "source": [
    "### Result\n",
    "From [Results from Neural Network](notebooks/eda.ipynb) we were able to understand the underlying dataset and we found out that there are disparities between each class (gender, ethnicity/race, parents education). From that we decided to experiment with different methods to predict novel data entries to test whether the disparities are learned as a pattern from any chosen method, which would hint towards a strong bias.\n",
    " \n",
    "As seen here [Results from Random Forest and Linear Regression](notebooks/rf_lr_results.ipynb) the results are similar to those from [Results from Neural Network](src/nn_results.py), so from a initial analysis we decided to focus on the neural network as it offers a more adjustable architecture. As can be seen, the predictions differ in their score with respect to their class, but their is no residual from the prediction, which means that the predictions do not favor (negative residual) or disfavor (positive residual) any certain class. So we conclude, that if there was a bias, it does not result in placing one group outside their most probable performance. \n",
    "\n",
    "Nevertheless, to mitigate the disparities which we found on the exploratory data analysis, we recommend to shuffle student groups for given tasks/assignments to support mutual benefit and increasing the overall performance withing each group."
   ]
  }
 ],
 "metadata": {
  "language_info": {
   "name": "python"
  }
 },
 "nbformat": 4,
 "nbformat_minor": 2
}
